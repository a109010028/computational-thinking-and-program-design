{
  "nbformat": 4,
  "nbformat_minor": 0,
  "metadata": {
    "colab": {
      "name": "陳萱樺week4.ipynb",
      "provenance": [],
      "authorship_tag": "ABX9TyOhHl8khuyIkusLx1hcdg5M",
      "include_colab_link": true
    },
    "kernelspec": {
      "name": "python3",
      "display_name": "Python 3"
    }
  },
  "cells": [
    {
      "cell_type": "markdown",
      "metadata": {
        "id": "view-in-github",
        "colab_type": "text"
      },
      "source": [
        "<a href=\"https://colab.research.google.com/github/a109010028/computational-thinking-and-program-design/blob/main/%E9%99%B3%E8%90%B1%E6%A8%BAweek4.ipynb\" target=\"_parent\"><img src=\"https://colab.research.google.com/assets/colab-badge.svg\" alt=\"Open In Colab\"/></a>"
      ]
    },
    {
      "cell_type": "markdown",
      "metadata": {
        "id": "OjfXGWYJWA-W"
      },
      "source": [
        "#隨堂練習"
      ]
    },
    {
      "cell_type": "markdown",
      "metadata": {
        "id": "TxTWO3HMWNqa"
      },
      "source": [
        "#課後練習"
      ]
    },
    {
      "cell_type": "markdown",
      "metadata": {
        "id": "VN7klSUMWmkO"
      },
      "source": [
        "從一則新聞報導，提出你對新聞系（OO系）學生為什麼要學「運算思維與程式設計」的見解。（告訴我新聞連結，以及你的觀點即可。）"
      ]
    },
    {
      "cell_type": "code",
      "metadata": {
        "id": "Droj3RoIXDo2"
      },
      "source": [
        ""
      ],
      "execution_count": null,
      "outputs": []
    },
    {
      "cell_type": "markdown",
      "metadata": {
        "id": "zRzp2IrZX84p"
      },
      "source": [
        "[連結文字](https://)https://www.storm.mg/article/616746?page=1"
      ]
    },
    {
      "cell_type": "code",
      "metadata": {
        "id": "Y0eQMX6Mc3Wh"
      },
      "source": [
        ""
      ],
      "execution_count": null,
      "outputs": []
    },
    {
      "cell_type": "markdown",
      "metadata": {
        "id": "Cut4KYRgfoNn"
      },
      "source": [
        "儘管現在的時代相當重視電腦學習，不僅是國外，台灣也不例外，然而台灣卻著重在大量購入電腦，建構電腦教室，卻不是融入學科教育，其成果備受質疑，甚至有人認為根本無學習之必要。"
      ]
    },
    {
      "cell_type": "markdown",
      "metadata": {
        "id": "SbIDdkxeZgz5"
      },
      "source": [
        "，\r\n",
        ">"
      ]
    }
  ]
}