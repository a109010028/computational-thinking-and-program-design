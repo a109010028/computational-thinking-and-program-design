{
  "nbformat": 4,
  "nbformat_minor": 0,
  "metadata": {
    "kernelspec": {
      "display_name": "Python 3",
      "language": "python",
      "name": "python3"
    },
    "language_info": {
      "codemirror_mode": {
        "name": "ipython",
        "version": 3
      },
      "file_extension": ".py",
      "mimetype": "text/x-python",
      "name": "python",
      "nbconvert_exporter": "python",
      "pygments_lexer": "ipython3",
      "version": "3.8.5"
    },
    "colab": {
      "name": "陳萱樺 - Week15 - 作業習題.ipynb",
      "provenance": [],
      "include_colab_link": true
    }
  },
  "cells": [
    {
      "cell_type": "markdown",
      "metadata": {
        "id": "view-in-github",
        "colab_type": "text"
      },
      "source": [
        "<a href=\"https://colab.research.google.com/github/a109010028/computational-thinking-and-program-design/blob/main/%E9%99%B3%E8%90%B1%E6%A8%BA_Week15_%E4%BD%9C%E6%A5%AD%E7%BF%92%E9%A1%8C.ipynb\" target=\"_parent\"><img src=\"https://colab.research.google.com/assets/colab-badge.svg\" alt=\"Open In Colab\"/></a>"
      ]
    },
    {
      "cell_type": "markdown",
      "metadata": {
        "id": "0Er4tslh9hEV"
      },
      "source": [
        "**隨堂練習1： BMI 計算**\n",
        "\n",
        "請寫一個程式讓使用者輸入身高與體重，顯示BMI 值與肥胖程度。 BMI 等於體重（KG）除以身高（M）的平方，而BMI 與肥胖分類標準如下：\n",
        "\n",
        "若BMI 值小於18，則顯示「體重過輕」，否則若BMI 值小於24，則顯示「體重正常」，若BMI 值小於27，則顯示「體重過重」，否則顯示「體重肥胖」。"
      ]
    },
    {
      "cell_type": "code",
      "metadata": {
        "id": "amn1r-rh9hEY",
        "outputId": "45109889-738b-4516-df8d-ee082bdf005c",
        "colab": {
          "base_uri": "https://localhost:8080/"
        }
      },
      "source": [
        "w=float(input(\"Please enter your weight(kg):\"))\n",
        "h=float(input(\"Please enter your hight(m):\"))\n",
        "BMI=w/h**2\n",
        "BMI1=round(BMI,1)\n",
        "print(f\"您的BMI值為{BMI1}\")\n",
        "if BMI1<=18:\n",
        "    print(\"體重過輕\")\n",
        "elif BMI1<=24:\n",
        "    print(\"體重正常\")\n",
        "elif BMI1<27:\n",
        "    print(\"體重過重\")\n",
        "else:\n",
        "    print(\"體重肥胖\")"
      ],
      "execution_count": 1,
      "outputs": [
        {
          "output_type": "stream",
          "text": [
            "Please enter your weight(kg):50\n",
            "Please enter your hight(m):1.65\n",
            "您的BMI值為18.4\n",
            "體重正常\n"
          ],
          "name": "stdout"
        }
      ]
    },
    {
      "cell_type": "markdown",
      "metadata": {
        "id": "217cmVyr9hEZ"
      },
      "source": [
        "**隨堂練習2： 三一律(單向選擇、雙向與巢狀選擇、多向選擇)**\n",
        "\n",
        "請輸入一個數，然後判斷這個數是正數、是負數或者是零。"
      ]
    },
    {
      "cell_type": "code",
      "metadata": {
        "id": "TfhUhaac9hEb"
      },
      "source": [
        ""
      ],
      "execution_count": null,
      "outputs": []
    },
    {
      "cell_type": "markdown",
      "metadata": {
        "id": "UnXDGXTq9hEb"
      },
      "source": [
        "**練習5   體溫與發燒**\n",
        "\n",
        "設計程式根據體溫判斷是否發燒，由使用者輸入體溫，程式判斷是否發燒，假設體溫小於36度，顯示「體溫過低」，體溫大於等於36度小於38度，顯示「體溫正常」，否則若體溫大於等於38度小於39度，顯示「體溫有點燒」，否則體溫大於等於39度，顯示「體溫很燒」。\n",
        "\n",
        "輸入體溫「36.5」，輸出為「體溫正常」。\n",
        "\n",
        "～程式執行結果如下。\n",
        "\n",
        "請輸入體溫？36.5\n",
        "\n",
        "體溫正常"
      ]
    },
    {
      "cell_type": "code",
      "metadata": {
        "colab": {
          "base_uri": "https://localhost:8080/"
        },
        "id": "VNyRO8ko9hEc",
        "outputId": "d84cb772-7638-42a2-fa16-ff43d6a0cec9"
      },
      "source": [
        "degree = 36.8\n",
        "\n",
        "if degree <36:\n",
        "    print(\"Low\")\n",
        "elif degree < 38: # 36 < = degree\n",
        "      print(\"Normal\")\n",
        "elif degree < 39: ## 38 < = degree\n",
        "      print(\"a bit of High\")\n",
        "else:\n",
        "       print(\"Fever\")"
      ],
      "execution_count": null,
      "outputs": [
        {
          "output_type": "stream",
          "text": [
            "Normal\n"
          ],
          "name": "stdout"
        }
      ]
    },
    {
      "cell_type": "markdown",
      "metadata": {
        "id": "5MMDZKhQ9hEc"
      },
      "source": [
        "**練習6  閏年判斷**\n",
        "\n",
        "設計程式允許輸入西元幾年，請求出該年是否是閏年，閏年表示該年多一天，若為4的倍數稱做閏年，但若為100的倍數就不為閏年，且若為400倍數又是閏年。(四年一潤、百年不潤、四百年再潤)\n",
        "\n",
        "輸入年份「2012」，輸出為「2012是閏年」。\n",
        "\n",
        "～程式執行結果如下。\n",
        "\n",
        "請輸入年份？2012\n",
        "\n",
        "2012 是閏年"
      ]
    },
    {
      "cell_type": "code",
      "metadata": {
        "colab": {
          "base_uri": "https://localhost:8080/"
        },
        "id": "idw-Dq6X9hEe",
        "outputId": "091b2398-63ec-431b-a328-a0143dd7a441"
      },
      "source": [
        "year=2021\n",
        "\n",
        "if  year  %  400 == 0:\n",
        "     print(\"是閨年\")\n",
        "elif year % 100 == 0:\n",
        "       print(\"不是閨年\")\n",
        "elif year % 4 == 0:\n",
        "       print(\"是閨年\")\n",
        "else :\n",
        "        print(\"不是閨年\")"
      ],
      "execution_count": null,
      "outputs": [
        {
          "output_type": "stream",
          "text": [
            "不是閨年\n"
          ],
          "name": "stdout"
        }
      ]
    },
    {
      "cell_type": "markdown",
      "metadata": {
        "id": "7caJ6FWx9hEe"
      },
      "source": [
        "**練習12：計程車計費**\n",
        "\n",
        "某城市計程車計費3公里以內6元，超過3公里不足10公里、每公里1.8元，超過10公里則超過部分加收50%。此外停車等候每3分鐘收1元，請用Python寫出車費是多少。"
      ]
    },
    {
      "cell_type": "code",
      "metadata": {
        "colab": {
          "base_uri": "https://localhost:8080/"
        },
        "id": "piKzJU6s9hEg",
        "outputId": "a1a508b0-dbbb-41b6-cdc4-7871037bf738"
      },
      "source": [
        "## input\n",
        "time=5\n",
        "distance=12\n",
        "\n",
        "## process\n",
        "## time\n",
        "money1= time/3*1\n",
        "\n",
        "##distance\n",
        "\n",
        "if distance <3 :\n",
        "    money2=6\n",
        "elif distance<10:\n",
        "    money2=6 + (distance - 3 )*1.8\n",
        "else: \n",
        "    money2=6+(7*1.8)+(distance-10)*1.8*1.5\n",
        "          \n",
        "total=money1+money2\n",
        "print(total)"
      ],
      "execution_count": null,
      "outputs": [
        {
          "output_type": "stream",
          "text": [
            "25.666666666666668\n"
          ],
          "name": "stdout"
        }
      ]
    },
    {
      "cell_type": "code",
      "metadata": {
        "id": "UDsingyT9hEg"
      },
      "source": [
        ""
      ],
      "execution_count": null,
      "outputs": []
    }
  ]
}