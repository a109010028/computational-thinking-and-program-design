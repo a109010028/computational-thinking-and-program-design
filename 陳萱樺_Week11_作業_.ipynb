{
  "nbformat": 4,
  "nbformat_minor": 0,
  "metadata": {
    "kernelspec": {
      "display_name": "Python 3",
      "language": "python",
      "name": "python3"
    },
    "language_info": {
      "codemirror_mode": {
        "name": "ipython",
        "version": 3
      },
      "file_extension": ".py",
      "mimetype": "text/x-python",
      "name": "python",
      "nbconvert_exporter": "python",
      "pygments_lexer": "ipython3",
      "version": "3.8.5"
    },
    "colab": {
      "name": "陳萱樺-Week11-作業 .ipynb",
      "provenance": [],
      "include_colab_link": true
    }
  },
  "cells": [
    {
      "cell_type": "markdown",
      "metadata": {
        "id": "view-in-github",
        "colab_type": "text"
      },
      "source": [
        "<a href=\"https://colab.research.google.com/github/a109010028/computational-thinking-and-program-design/blob/main/%E9%99%B3%E8%90%B1%E6%A8%BA_Week11_%E4%BD%9C%E6%A5%AD_.ipynb\" target=\"_parent\"><img src=\"https://colab.research.google.com/assets/colab-badge.svg\" alt=\"Open In Colab\"/></a>"
      ]
    },
    {
      "cell_type": "markdown",
      "metadata": {
        "id": "N3mgIClOvmNs"
      },
      "source": [
        "# 基本程式設計(應用篇)"
      ]
    },
    {
      "cell_type": "markdown",
      "metadata": {
        "id": "ItvKjCWtvmNu"
      },
      "source": [
        "### 4-2 運算思維四個基石"
      ]
    },
    {
      "cell_type": "markdown",
      "metadata": {
        "id": "Dbb_ELPLvmNv"
      },
      "source": [
        "#### 4-2-4  問題拆解 - 打造你的聊天機器人"
      ]
    },
    {
      "cell_type": "markdown",
      "metadata": {
        "id": "KVsZ2JZKvmNw"
      },
      "source": [
        "「哈囉，大家好。我叫Zyxo64，是一個聊天機器人。\n",
        "\n",
        "在嗜好與興趣方面，我很喜歡美食，也喜歡養動物。\n",
        "\n",
        "很高興有機會來到世新大學，請大家多多指教。\n",
        "\n",
        "嗨！妳好，請問大名？：Francis。\n",
        "\n",
        "Francis，很高興認識你。"
      ]
    },
    {
      "cell_type": "code",
      "metadata": {
        "colab": {
          "base_uri": "https://localhost:8080/"
        },
        "id": "iYVx3KSdvmNw",
        "outputId": "8b2635c8-b014-4ec5-f5b4-612772e49cd0"
      },
      "source": [
        "# 1.聊天機器人自我介紹\n",
        "print(\"哈囉，大家好。我叫Zyxo64，是一個聊天機器人。\")\n",
        "print(\"在嗜好與興趣方面，我很喜歡美食，也喜歡養動物。\")\n",
        "print(\"很高興有機會來到世新大學，請大家多多指教。\")\n",
        "# 2. 打招呼，取得對方名字\n",
        "name = input(\"Enter Your Name:\")\n",
        "print(\"嗨！妳好，請問大名？\", name )"
      ],
      "execution_count": 1,
      "outputs": [
        {
          "output_type": "stream",
          "text": [
            "哈囉，大家好。我叫Zyxo64，是一個聊天機器人。\n",
            "在嗜好與興趣方面，我很喜歡美食，也喜歡養動物。\n",
            "很高興有機會來到世新大學，請大家多多指教。\n",
            "Enter Your Name:Vivian\n",
            "嗨！妳好，請問大名？ Vivian\n"
          ],
          "name": "stdout"
        }
      ]
    },
    {
      "cell_type": "markdown",
      "metadata": {
        "id": "tIBiaJj4vmNx"
      },
      "source": [
        "抱歉，請問一下今年是西元2021年，那是民國幾年呢？：*110*。\n",
        "\n",
        "對！沒錯，謝謝妳！\n",
        "\n",
        "**Francis**，猜猜看我今年幾歲？ ：**18**。\n",
        "\n",
        "哇！你好聰明，我今年的確*18*。\n",
        "\n",
        "再82年我就100歲了。\n",
        "\n",
        "那時候是西元 2103年，也就是民國192年囉！"
      ]
    },
    {
      "cell_type": "code",
      "metadata": {
        "colab": {
          "base_uri": "https://localhost:8080/"
        },
        "id": "kopoh5UJvmNx",
        "outputId": "6fe2898b-a63f-47bf-b54f-3f3a5dc8bf99"
      },
      "source": [
        "# 3. 數學運算\n",
        "## 3-1 從使用者取得今年年份\n",
        "year = input(\"請問一下今年是西元2021年,那是民國幾年?\")\n",
        "\n",
        "print(\"對!應該沒錯,謝謝你!\")\n",
        "\n",
        "\n",
        "## 3-2 請使用者猜年齡\n",
        "myage = int(input(\"Francis,猜猜看我今年幾歲?\"))\n",
        "print(\"哇!你好聰明,我今年的確\",myage)\n",
        "\n",
        "## 3-3 計算聊天機器人滿100歲的年份\n",
        "nyears = 100 - myage\n",
        "print(\"我再\",nyears,\"年就滿100歲。\")\n",
        "\n",
        "print(\"到時候是西元\",int(year)+ nyears + 1911,\"年\")\n",
        "print(\"也就是民國\",int(year) + nyears, \"年\")"
      ],
      "execution_count": 5,
      "outputs": [
        {
          "output_type": "stream",
          "text": [
            "請問一下今年是西元2021年,那是民國幾年?110\n",
            "對!應該沒錯,謝謝你!\n",
            "Francis,猜猜看我今年幾歲?19\n",
            "哇!你好聰明,我今年的確 19\n",
            "我再 81 年就滿100歲。\n",
            "到時候是西元 2102 年\n",
            "也就是民國 191 年\n"
          ],
          "name": "stdout"
        }
      ]
    },
    {
      "cell_type": "markdown",
      "metadata": {
        "id": "LCUdJTw7vmNy"
      },
      "source": [
        "我喜歡吃巧克力，也喜歡嘗試各種新食物。\n",
        "\n",
        "你呢？你最喜歡的食物是什麼？**:披薩**。\n",
        "\n",
        "我也喜歡 *披薩*。\n",
        "\n",
        "你多久吃一次 *披薩*？**：每天**。\n",
        "\n",
        "真有趣。不知道這樣對健康好不好。"
      ]
    },
    {
      "cell_type": "code",
      "metadata": {
        "colab": {
          "base_uri": "https://localhost:8080/"
        },
        "id": "x8Ep-cK1vmNy",
        "outputId": "9bb9c23f-401b-43f0-d65e-811269d57b23"
      },
      "source": [
        "# 4 興趣\n",
        "print(\"我喜歡吃炸雞,也喜歡嘗試各種新食物。\")\n",
        "## 4-1 食物話題\n",
        "food = input(\"Enter the food:\")\n",
        "print(\"你呢？你最喜歡的食物是什麼？:\",food)\n",
        "print(\"我也喜歡\",food)\n",
        "time = input(\"Enter the time\")\n",
        "print(\"你多久吃一次 炸雞？:\"+ time)\n",
        "print(\"真有趣。不知道這樣對健康好不好。\")"
      ],
      "execution_count": 7,
      "outputs": [
        {
          "output_type": "stream",
          "text": [
            "我喜歡吃炸雞,也喜歡嘗試各種新食物。\n",
            "Enter the food:巧克力\n",
            "你呢？你最喜歡的食物是什麼？: 巧克力\n",
            "我也喜歡 巧克力\n",
            "Enter the time2周\n",
            "你多久吃一次 炸雞？:2周\n",
            "真有趣。不知道這樣對健康好不好。\n"
          ],
          "name": "stdout"
        }
      ]
    },
    {
      "cell_type": "markdown",
      "metadata": {
        "id": "Ynwg6Y5lvmNy"
      },
      "source": [
        "我最喜歡的動物是長頸鹿。你呢？ **：烏龜**。\n",
        "\n",
        "我不喜歡*烏龜*！\n",
        "\n",
        "不知道 *烏龜* 喜不喜歡吃 *披薩*？"
      ]
    },
    {
      "cell_type": "code",
      "metadata": {
        "colab": {
          "base_uri": "https://localhost:8080/"
        },
        "id": "YV9-KbpWvmNz",
        "outputId": "e7326474-0d29-470a-9bb6-f298bb2bb570"
      },
      "source": [
        "# 4 興趣\n",
        "## 4-2 動物話題\n",
        "animals=input(\"enter the animals:\")\n",
        "print(\"我最喜歡的動物是長頸鹿。你呢?:\",animals)\n",
        "print(\"我不喜歡\",animals)\n",
        "food=input(\"enter the food:\")\n",
        "print(\"不知道\"+animals+\"喜不喜歡吃\",food+\"?\")"
      ],
      "execution_count": 8,
      "outputs": [
        {
          "output_type": "stream",
          "text": [
            "enter the animals:大象\n",
            "我最喜歡的動物是長頸鹿。你呢?: 大象\n",
            "我不喜歡 大象\n",
            "enter the food:火鍋\n",
            "不知道大象喜不喜歡吃 火鍋?\n"
          ],
          "name": "stdout"
        }
      ]
    },
    {
      "cell_type": "markdown",
      "metadata": {
        "id": "NFDuQ5TkvmNz"
      },
      "source": [
        "你今天的心情如何？ **：很開心**。\n",
        "\n",
        "可以告訴我你 *開心* 的原因嗎？**因為週末了！** \n",
        "\n",
        "祝你週末愉快！\n",
        "\n",
        "我喜歡跟你聊天，現在有點累了，改天再聊吧！！\n",
        "\n",
        "再見 *Francis*！"
      ]
    },
    {
      "cell_type": "code",
      "metadata": {
        "colab": {
          "base_uri": "https://localhost:8080/"
        },
        "id": "zPJrhwndvmNz",
        "outputId": "49e7d703-9630-4ad1-d373-02985f15a720"
      },
      "source": [
        "mood = input(\"Enter The Mood:\")\n",
        "print(\"你今天的心情如何？ ：\", mood)\n",
        "reason = input(\"Enter The Reason:\")\n",
        "print(\"可以告訴我你 開心 的原因嗎？\"+reason)\n",
        "print(\"祝你週末愉快\")\n",
        "print(\"我喜歡跟你聊天，現在有點累了，改天再聊吧！！\")\n",
        "name = input(\"Enter The Name:\")\n",
        "print(\"再見\",name+\"!\")"
      ],
      "execution_count": 14,
      "outputs": [
        {
          "output_type": "stream",
          "text": [
            "Enter The Mood:很好\n",
            "你今天的心情如何？ ： 很好\n",
            "Enter The Reason:因為周末要到了\n",
            "可以告訴我你 開心 的原因嗎？因為周末要到了\n",
            "祝你週末愉快\n",
            "我喜歡跟你聊天，現在有點累了，改天再聊吧！！\n",
            "Enter The Name:Vivian\n",
            "再見 Vivian!\n"
          ],
          "name": "stdout"
        }
      ]
    },
    {
      "cell_type": "markdown",
      "metadata": {
        "id": "uzrWIF_WvmN0"
      },
      "source": [
        "我喜歡跟你聊天，現在有點累了，改天再聊吧！！\n",
        "\n",
        "再見 *Francis*！"
      ]
    },
    {
      "cell_type": "code",
      "metadata": {
        "colab": {
          "base_uri": "https://localhost:8080/"
        },
        "id": "YnJJvcw0vmN0",
        "outputId": "b3ee4088-94e6-4745-c190-399d8c413a1e"
      },
      "source": [
        "# 6. 道別\n",
        "print(\"我喜歡跟你聊天，現在有點累了，改天再聊吧！！\")\n",
        "name = input(\"Enter The Name:\")\n",
        "print(\"再見\",name,\"!\")"
      ],
      "execution_count": 12,
      "outputs": [
        {
          "output_type": "stream",
          "text": [
            "我喜歡跟你聊天，現在有點累了，改天再聊吧！！\n",
            "Enter The Name:Vivian\n",
            "再見 Vivian !\n"
          ],
          "name": "stdout"
        }
      ]
    },
    {
      "cell_type": "markdown",
      "metadata": {
        "id": "Dt4UtXORvmN0"
      },
      "source": [
        "## 期末報告"
      ]
    },
    {
      "cell_type": "markdown",
      "metadata": {
        "id": "xAZ36R66vmN0"
      },
      "source": [
        "\n",
        "\n",
        "```\n",
        "# 此內容會顯示為程式碼\n",
        "```\n",
        "\n",
        "### 組長(學號姓名):\n",
        "\n"
      ]
    },
    {
      "cell_type": "markdown",
      "metadata": {
        "id": "0MM2UOWovmN1"
      },
      "source": [
        "### 組員(學號姓名):\n",
        "\n"
      ]
    },
    {
      "cell_type": "markdown",
      "metadata": {
        "id": "xrIrBAu2vmN1"
      },
      "source": [
        "### 題目:"
      ]
    },
    {
      "cell_type": "markdown",
      "metadata": {
        "id": "YjfzfRqqvmN1"
      },
      "source": [
        "### 百字腳本\n",
        "\n"
      ]
    }
  ]
}