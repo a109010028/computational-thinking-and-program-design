{
  "nbformat": 4,
  "nbformat_minor": 0,
  "metadata": {
    "colab": {
      "name": "week15陳萱樺 課後作業.ipynb",
      "provenance": [],
      "authorship_tag": "ABX9TyNgukcsUQGDqUI85z/41QiF",
      "include_colab_link": true
    },
    "kernelspec": {
      "name": "python3",
      "display_name": "Python 3"
    },
    "language_info": {
      "name": "python"
    }
  },
  "cells": [
    {
      "cell_type": "markdown",
      "metadata": {
        "id": "view-in-github",
        "colab_type": "text"
      },
      "source": [
        "<a href=\"https://colab.research.google.com/github/a109010028/computational-thinking-and-program-design/blob/main/week15%E9%99%B3%E8%90%B1%E6%A8%BA_%E8%AA%B2%E5%BE%8C%E4%BD%9C%E6%A5%AD.ipynb\" target=\"_parent\"><img src=\"https://colab.research.google.com/assets/colab-badge.svg\" alt=\"Open In Colab\"/></a>"
      ]
    },
    {
      "cell_type": "code",
      "metadata": {
        "id": "gqi56GSU7KRw"
      },
      "source": [
        "課後作業：**加分題: 棒打老虎雞吃蟲**\n",
        "[棒打老虎雞吃蟲]跟[剪刀石頭布]是類似的遊戲，練習一下你是否也可以寫出類似的小遊戲呢？"
      ],
      "execution_count": null,
      "outputs": []
    },
    {
      "cell_type": "code",
      "metadata": {
        "colab": {
          "base_uri": "https://localhost:8080/"
        },
        "id": "PmeKf0Rv7Yla",
        "outputId": "17b23c1e-834a-441b-ea9d-c74431f8be0e"
      },
      "source": [
        "w=float(input(\"Please enter your weight(kg):\"))\n",
        "h=float(input(\"Please enter your hight(m):\"))\n",
        "BMI=w/h**2\n",
        "BMI1=round(BMI,1)\n",
        "print(f\"您的BMI值為{BMI1}\")\n",
        "if BMI1<=18:\n",
        "    print(\"體重過輕\")\n",
        "elif BMI1<=24:\n",
        "    print(\"體重正常\")\n",
        "elif BMI1<27:\n",
        "    print(\"體重過重\")\n",
        "else:\n",
        "    print(\"體重肥胖\")"
      ],
      "execution_count": 2,
      "outputs": [
        {
          "output_type": "stream",
          "text": [
            "Please enter your weight(kg):50\n",
            "Please enter your hight(m):1.65\n",
            "您的BMI值為18.4\n",
            "體重正常\n"
          ],
          "name": "stdout"
        }
      ]
    }
  ]
}